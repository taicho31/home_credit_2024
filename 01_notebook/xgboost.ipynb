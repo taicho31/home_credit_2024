{
 "cells": [
  {
   "cell_type": "code",
   "execution_count": 1,
   "id": "c548a60c",
   "metadata": {
    "execution": {
     "iopub.execute_input": "2024-10-20T00:47:46.808619Z",
     "iopub.status.busy": "2024-10-20T00:47:46.808196Z",
     "iopub.status.idle": "2024-10-20T00:47:50.806345Z",
     "shell.execute_reply": "2024-10-20T00:47:50.805324Z"
    },
    "papermill": {
     "duration": 4.01265,
     "end_time": "2024-10-20T00:47:50.809175",
     "exception": false,
     "start_time": "2024-10-20T00:47:46.796525",
     "status": "completed"
    },
    "tags": []
   },
   "outputs": [],
   "source": [
    "import sys\n",
    "import mlflow\n",
    "import datetime\n",
    "from pathlib import Path\n",
    "\n",
    "import numpy as np\n",
    "import pandas as pd\n",
    "import polars as pl\n",
    "\n",
    "from xgboost import XGBRegressor, XGBClassifier\n",
    "from sklearn.metrics import roc_auc_score\n",
    "from sklearn.model_selection import StratifiedGroupKFold"
   ]
  },
  {
   "cell_type": "code",
   "execution_count": 2,
   "id": "60b2ed92",
   "metadata": {
    "execution": {
     "iopub.execute_input": "2024-10-20T00:47:50.832620Z",
     "iopub.status.busy": "2024-10-20T00:47:50.831467Z",
     "iopub.status.idle": "2024-10-20T00:47:50.837672Z",
     "shell.execute_reply": "2024-10-20T00:47:50.836562Z"
    },
    "papermill": {
     "duration": 0.020158,
     "end_time": "2024-10-20T00:47:50.840043",
     "exception": false,
     "start_time": "2024-10-20T00:47:50.819885",
     "status": "completed"
    },
    "tags": []
   },
   "outputs": [],
   "source": [
    "ROOT            = Path(\"../data\")\n",
    "\n",
    "TRAIN_DIR       = ROOT / \"parquet_files\" / \"train\"\n",
    "TEST_DIR        = ROOT / \"parquet_files\" / \"test\"\n",
    "\n",
    "TARGET = 'target'\n",
    "EXPERIMENT_NAME = \"Home_Credit_2024\""
   ]
  },
  {
   "cell_type": "code",
   "execution_count": 3,
   "id": "c230cccd",
   "metadata": {},
   "outputs": [
    {
     "data": {
      "text/plain": [
       "<Experiment: artifact_location='file:///tmp/working/mlruns/836281514613721981', creation_time=1730029393721, experiment_id='836281514613721981', last_update_time=1730029393721, lifecycle_stage='active', name='Home_Credit_2024', tags={}>"
      ]
     },
     "execution_count": 3,
     "metadata": {},
     "output_type": "execute_result"
    }
   ],
   "source": [
    "dt_now = datetime.datetime.now()\n",
    "run_postfix = dt_now.isoformat()\n",
    "mlflow.set_tracking_uri(\"http://mlflow:5000\")\n",
    "mlflow.set_experiment(EXPERIMENT_NAME)"
   ]
  },
  {
   "cell_type": "code",
   "execution_count": 4,
   "id": "faeaf6ef",
   "metadata": {},
   "outputs": [],
   "source": [
    "sys.path.append(\"../02_script/\")\n",
    "from process import read_file, read_files, to_pandas, feature_eng\n",
    "from common import reduce_mem_usage, Common_XGB_Modelling"
   ]
  },
  {
   "cell_type": "markdown",
   "id": "8618d030",
   "metadata": {
    "papermill": {
     "duration": 0.010184,
     "end_time": "2024-10-20T00:47:51.134086",
     "exception": false,
     "start_time": "2024-10-20T00:47:51.123902",
     "status": "completed"
    },
    "tags": []
   },
   "source": [
    "# train fe"
   ]
  },
  {
   "cell_type": "code",
   "execution_count": 5,
   "id": "9b765a81",
   "metadata": {
    "execution": {
     "iopub.execute_input": "2024-10-20T00:47:51.157288Z",
     "iopub.status.busy": "2024-10-20T00:47:51.156068Z",
     "iopub.status.idle": "2024-10-20T00:52:17.972492Z",
     "shell.execute_reply": "2024-10-20T00:52:17.971287Z"
    },
    "papermill": {
     "duration": 266.831037,
     "end_time": "2024-10-20T00:52:17.975464",
     "exception": false,
     "start_time": "2024-10-20T00:47:51.144427",
     "status": "completed"
    },
    "tags": []
   },
   "outputs": [
    {
     "name": "stdout",
     "output_type": "stream",
     "text": [
      "../data/parquet_files/train/train_static_0_*.parquet\n",
      "../data/parquet_files/train/train_applprev_1_*.parquet\n",
      "../data/parquet_files/train/train_credit_bureau_a_1_*.parquet\n",
      "../data/parquet_files/train/train_credit_bureau_a_2_*.parquet\n"
     ]
    }
   ],
   "source": [
    "train_data_store = {\n",
    "    \"df_base\": read_file(TRAIN_DIR / \"train_base.parquet\"),\n",
    "    \"depth_0\": [\n",
    "        read_file(TRAIN_DIR / \"train_static_cb_0.parquet\"),\n",
    "        read_files(TRAIN_DIR / \"train_static_0_*.parquet\"),\n",
    "    ],\n",
    "    \"depth_1\": [\n",
    "        read_files(TRAIN_DIR / \"train_applprev_1_*.parquet\", 1),\n",
    "        read_files(TRAIN_DIR / \"train_credit_bureau_a_1_*.parquet\", 1),\n",
    "        read_file(TRAIN_DIR / \"train_credit_bureau_b_1.parquet\", 1),\n",
    "        read_file(TRAIN_DIR / \"train_deposit_1.parquet\", 1),\n",
    "        read_file(TRAIN_DIR / \"train_debitcard_1.parquet\", 1),\n",
    "        read_file(TRAIN_DIR / \"train_tax_registry_a_1.parquet\", 1),\n",
    "        read_file(TRAIN_DIR / \"train_tax_registry_b_1.parquet\", 1),\n",
    "        read_file(TRAIN_DIR / \"train_tax_registry_c_1.parquet\", 1),\n",
    "        read_file(TRAIN_DIR / \"train_person_1.parquet\", 1),\n",
    "        read_file(TRAIN_DIR / \"train_other_1.parquet\", 1),\n",
    "    ],\n",
    "    \"depth_2\": [\n",
    "        read_files(TRAIN_DIR / \"train_credit_bureau_a_2_*.parquet\", 2),\n",
    "        read_file(TRAIN_DIR / \"train_credit_bureau_b_2.parquet\", 2),\n",
    "        read_file(TRAIN_DIR / \"train_person_2.parquet\", 2),\n",
    "    ]\n",
    "}"
   ]
  },
  {
   "cell_type": "code",
   "execution_count": 6,
   "id": "9ce6dc46",
   "metadata": {
    "execution": {
     "iopub.execute_input": "2024-10-20T00:52:17.999831Z",
     "iopub.status.busy": "2024-10-20T00:52:17.999102Z",
     "iopub.status.idle": "2024-10-20T00:52:37.202319Z",
     "shell.execute_reply": "2024-10-20T00:52:37.201071Z"
    },
    "papermill": {
     "duration": 19.218331,
     "end_time": "2024-10-20T00:52:37.205211",
     "exception": false,
     "start_time": "2024-10-20T00:52:17.986880",
     "status": "completed"
    },
    "tags": []
   },
   "outputs": [],
   "source": [
    "train_overall = feature_eng(**train_data_store)"
   ]
  },
  {
   "cell_type": "code",
   "execution_count": 7,
   "id": "cdc44939",
   "metadata": {
    "execution": {
     "iopub.execute_input": "2024-10-20T00:52:37.228788Z",
     "iopub.status.busy": "2024-10-20T00:52:37.228376Z",
     "iopub.status.idle": "2024-10-20T00:52:37.904304Z",
     "shell.execute_reply": "2024-10-20T00:52:37.903079Z"
    },
    "papermill": {
     "duration": 0.690684,
     "end_time": "2024-10-20T00:52:37.906840",
     "exception": false,
     "start_time": "2024-10-20T00:52:37.216156",
     "status": "completed"
    },
    "tags": []
   },
   "outputs": [],
   "source": [
    "del train_data_store"
   ]
  },
  {
   "cell_type": "markdown",
   "id": "0bece3a8",
   "metadata": {
    "papermill": {
     "duration": 0.010351,
     "end_time": "2024-10-20T00:52:38.597688",
     "exception": false,
     "start_time": "2024-10-20T00:52:38.587337",
     "status": "completed"
    },
    "tags": []
   },
   "source": [
    "# post fe"
   ]
  },
  {
   "cell_type": "code",
   "execution_count": 8,
   "id": "4d20c455",
   "metadata": {
    "execution": {
     "iopub.execute_input": "2024-10-20T00:52:38.659628Z",
     "iopub.status.busy": "2024-10-20T00:52:38.658337Z",
     "iopub.status.idle": "2024-10-20T00:53:47.825797Z",
     "shell.execute_reply": "2024-10-20T00:53:47.824319Z"
    },
    "papermill": {
     "duration": 69.18179,
     "end_time": "2024-10-20T00:53:47.828257",
     "exception": false,
     "start_time": "2024-10-20T00:52:38.646467",
     "status": "completed"
    },
    "tags": []
   },
   "outputs": [
    {
     "name": "stdout",
     "output_type": "stream",
     "text": [
      "<class 'pandas.core.frame.DataFrame'>\n",
      "RangeIndex: 1526659 entries, 0 to 1526658\n",
      "Columns: 817 entries, case_id to last_empls_employer_name_740M\n",
      "dtypes: bool(1), float32(4), float64(660), int64(4), int8(2), object(146)\n",
      "memory usage: 9.2+ GB\n",
      "None\n",
      "<class 'pandas.core.frame.DataFrame'>\n",
      "RangeIndex: 1526659 entries, 0 to 1526658\n",
      "Columns: 817 entries, case_id to last_empls_employer_name_740M\n",
      "dtypes: bool(1), category(146), float32(4), float64(660), int64(4), int8(2)\n",
      "memory usage: 7.9 GB\n"
     ]
    }
   ],
   "source": [
    "train_overall, str_features = to_pandas(train_overall)\n",
    "train_overall.info()"
   ]
  },
  {
   "cell_type": "code",
   "execution_count": 9,
   "id": "0081aecc",
   "metadata": {},
   "outputs": [
    {
     "name": "stdout",
     "output_type": "stream",
     "text": [
      "Memory usage of dataframe is 8060.49 MB\n",
      "Memory usage after optimization is: 2986.56 MB\n",
      "Decreased by 62.9%\n",
      "<class 'pandas.core.frame.DataFrame'>\n",
      "RangeIndex: 1526659 entries, 0 to 1526658\n",
      "Columns: 817 entries, case_id to last_empls_employer_name_740M\n",
      "dtypes: category(146), float16(416), float32(247), float64(2), int16(1), int32(1), int8(4)\n",
      "memory usage: 2.9 GB\n"
     ]
    }
   ],
   "source": [
    "train_overall = reduce_mem_usage(train_overall)\n",
    "train_overall.info()"
   ]
  },
  {
   "cell_type": "code",
   "execution_count": 10,
   "id": "9dd76309",
   "metadata": {
    "execution": {
     "iopub.execute_input": "2024-10-20T00:53:48.518402Z",
     "iopub.status.busy": "2024-10-20T00:53:48.518036Z",
     "iopub.status.idle": "2024-10-20T00:53:57.192113Z",
     "shell.execute_reply": "2024-10-20T00:53:57.190952Z"
    },
    "papermill": {
     "duration": 8.690737,
     "end_time": "2024-10-20T00:53:57.196191",
     "exception": false,
     "start_time": "2024-10-20T00:53:48.505454",
     "status": "completed"
    },
    "tags": []
   },
   "outputs": [],
   "source": [
    "drop_cols = str_features#[2:] #train_overall.pipe(Pipeline.filter_cols)\n",
    "train_overall = train_overall.drop(drop_cols, axis=1)"
   ]
  },
  {
   "cell_type": "code",
   "execution_count": 11,
   "id": "5939af98",
   "metadata": {
    "execution": {
     "iopub.execute_input": "2024-10-20T00:53:57.223275Z",
     "iopub.status.busy": "2024-10-20T00:53:57.222604Z",
     "iopub.status.idle": "2024-10-20T00:53:57.231420Z",
     "shell.execute_reply": "2024-10-20T00:53:57.230340Z"
    },
    "papermill": {
     "duration": 0.025386,
     "end_time": "2024-10-20T00:53:57.234657",
     "exception": false,
     "start_time": "2024-10-20T00:53:57.209271",
     "status": "completed"
    },
    "tags": []
   },
   "outputs": [],
   "source": [
    "selected_features = sorted([i for i in train_overall.columns if i not in [\"case_id\", \"MONTH\", \"WEEK_NUM\", \"target\"]])\n",
    "selected_cat_features = [col for i, col in enumerate(selected_features) if col in str_features]"
   ]
  },
  {
   "cell_type": "code",
   "execution_count": 12,
   "id": "3b883f2a",
   "metadata": {},
   "outputs": [],
   "source": [
    "y_train = train_overall[TARGET].astype(np.float32).values\n",
    "train = read_file(TRAIN_DIR / \"train_base.parquet\")\n",
    "train_week_df = train.select(\"WEEK_NUM\").to_pandas()\n",
    "cv = StratifiedGroupKFold(n_splits=5, shuffle=False)\n",
    "tmp = train_overall[[\"WEEK_NUM\", \"target\"]]"
   ]
  },
  {
   "cell_type": "markdown",
   "id": "f31828a1",
   "metadata": {
    "papermill": {
     "duration": 0.011202,
     "end_time": "2024-10-20T00:53:57.257568",
     "exception": false,
     "start_time": "2024-10-20T00:53:57.246366",
     "status": "completed"
    },
    "tags": []
   },
   "source": [
    "# modelling"
   ]
  },
  {
   "cell_type": "code",
   "execution_count": 13,
   "id": "369ab07a",
   "metadata": {
    "execution": {
     "iopub.execute_input": "2024-10-20T00:53:57.282746Z",
     "iopub.status.busy": "2024-10-20T00:53:57.282365Z",
     "iopub.status.idle": "2024-10-20T00:53:57.290712Z",
     "shell.execute_reply": "2024-10-20T00:53:57.289565Z"
    },
    "papermill": {
     "duration": 0.023639,
     "end_time": "2024-10-20T00:53:57.293051",
     "exception": false,
     "start_time": "2024-10-20T00:53:57.269412",
     "status": "completed"
    },
    "tags": []
   },
   "outputs": [],
   "source": [
    "xgb_params = {\n",
    "            \"n_estimators\" : 10,\n",
    "            'objective': \"binary:logistic\",\n",
    "            \"eval_metric\": \"auc\",\n",
    "            \"importance_type\": \"gain\",\n",
    "            \"enable_categorical\": True,\n",
    "            'learning_rate': 0.02,\n",
    "            'scale_pos_weight': 10,\n",
    "            'booster': 'gbtree',\n",
    "            'verbosity': 0,\n",
    "            'seed': 42,\n",
    "            \"reg_alpha\": 0.1,\n",
    "            \"reg_lambda\": 10,\n",
    "            \"device\": \"gpu\",\n",
    "            \"early_stopping_rounds\": 10,\n",
    "            \"verbose_eval\": 10,\n",
    "        }\n",
    "\n",
    "xgb_modelling = Common_XGB_Modelling(XGBClassifier)"
   ]
  },
  {
   "cell_type": "code",
   "execution_count": 14,
   "id": "f740b2e1",
   "metadata": {},
   "outputs": [
    {
     "name": "stdout",
     "output_type": "stream",
     "text": [
      "Fold : 1\n",
      "[0]\tvalidation_0-auc:0.75307\n",
      "[0]\tvalidation_0-auc:0.75307\n",
      "[1]\tvalidation_0-auc:0.75950\n",
      "[2]\tvalidation_0-auc:0.75961\n",
      "[3]\tvalidation_0-auc:0.76190\n",
      "[4]\tvalidation_0-auc:0.76657\n",
      "[5]\tvalidation_0-auc:0.76809\n",
      "[6]\tvalidation_0-auc:0.76882\n",
      "[7]\tvalidation_0-auc:0.76919\n",
      "[8]\tvalidation_0-auc:0.77178\n",
      "[9]\tvalidation_0-auc:0.77252\n",
      "[9]\tvalidation_0-auc:0.77252\n"
     ]
    },
    {
     "data": {
      "application/vnd.jupyter.widget-view+json": {
       "model_id": "ad15c6639bf94ba3afcea1608d861452",
       "version_major": 2,
       "version_minor": 0
      },
      "text/plain": [
       "Downloading artifacts:   0%|          | 0/7 [00:00<?, ?it/s]"
      ]
     },
     "metadata": {},
     "output_type": "display_data"
    },
    {
     "name": "stderr",
     "output_type": "stream",
     "text": [
      "2024/11/04 03:03:08 INFO mlflow.tracking._tracking_service.client: 🏃 View run fold_1 at: http://mlflow:5000/#/experiments/836281514613721981/runs/dfaf7134b80843ea9c1ddc62e8b58d00.\n",
      "2024/11/04 03:03:08 INFO mlflow.tracking._tracking_service.client: 🧪 View experiment at: http://mlflow:5000/#/experiments/836281514613721981.\n"
     ]
    },
    {
     "name": "stdout",
     "output_type": "stream",
     "text": [
      "Fold : 2\n",
      "[0]\tvalidation_0-auc:0.74977\n",
      "[0]\tvalidation_0-auc:0.74977\n",
      "[1]\tvalidation_0-auc:0.75133\n",
      "[2]\tvalidation_0-auc:0.75546\n",
      "[3]\tvalidation_0-auc:0.76480\n",
      "[4]\tvalidation_0-auc:0.76940\n",
      "[5]\tvalidation_0-auc:0.77005\n",
      "[6]\tvalidation_0-auc:0.77232\n",
      "[7]\tvalidation_0-auc:0.77279\n",
      "[8]\tvalidation_0-auc:0.77385\n",
      "[9]\tvalidation_0-auc:0.77594\n",
      "[9]\tvalidation_0-auc:0.77594\n"
     ]
    },
    {
     "data": {
      "application/vnd.jupyter.widget-view+json": {
       "model_id": "d17905470bf84ae8bf2288792de4418f",
       "version_major": 2,
       "version_minor": 0
      },
      "text/plain": [
       "Downloading artifacts:   0%|          | 0/7 [00:00<?, ?it/s]"
      ]
     },
     "metadata": {},
     "output_type": "display_data"
    },
    {
     "name": "stderr",
     "output_type": "stream",
     "text": [
      "2024/11/04 03:03:42 INFO mlflow.tracking._tracking_service.client: 🏃 View run fold_2 at: http://mlflow:5000/#/experiments/836281514613721981/runs/ae44086c338a48b79fa1b20a51a52b89.\n",
      "2024/11/04 03:03:42 INFO mlflow.tracking._tracking_service.client: 🧪 View experiment at: http://mlflow:5000/#/experiments/836281514613721981.\n"
     ]
    },
    {
     "name": "stdout",
     "output_type": "stream",
     "text": [
      "Fold : 3\n",
      "[0]\tvalidation_0-auc:0.75508\n",
      "[0]\tvalidation_0-auc:0.75508\n",
      "[1]\tvalidation_0-auc:0.75605\n",
      "[2]\tvalidation_0-auc:0.76461\n",
      "[3]\tvalidation_0-auc:0.76570\n",
      "[4]\tvalidation_0-auc:0.76637\n",
      "[5]\tvalidation_0-auc:0.76741\n",
      "[6]\tvalidation_0-auc:0.76824\n",
      "[7]\tvalidation_0-auc:0.77219\n",
      "[8]\tvalidation_0-auc:0.77445\n",
      "[9]\tvalidation_0-auc:0.77620\n",
      "[9]\tvalidation_0-auc:0.77620\n"
     ]
    },
    {
     "data": {
      "application/vnd.jupyter.widget-view+json": {
       "model_id": "75b2cd7b6300401fbddcb1f3e0bcd1c1",
       "version_major": 2,
       "version_minor": 0
      },
      "text/plain": [
       "Downloading artifacts:   0%|          | 0/7 [00:00<?, ?it/s]"
      ]
     },
     "metadata": {},
     "output_type": "display_data"
    },
    {
     "name": "stderr",
     "output_type": "stream",
     "text": [
      "2024/11/04 03:04:17 INFO mlflow.tracking._tracking_service.client: 🏃 View run fold_3 at: http://mlflow:5000/#/experiments/836281514613721981/runs/b580be0b1e004aa583ae959ab0e18ead.\n",
      "2024/11/04 03:04:17 INFO mlflow.tracking._tracking_service.client: 🧪 View experiment at: http://mlflow:5000/#/experiments/836281514613721981.\n"
     ]
    },
    {
     "name": "stdout",
     "output_type": "stream",
     "text": [
      "Fold : 4\n",
      "[0]\tvalidation_0-auc:0.75155\n",
      "[0]\tvalidation_0-auc:0.75155\n",
      "[1]\tvalidation_0-auc:0.75899\n",
      "[2]\tvalidation_0-auc:0.75987\n",
      "[3]\tvalidation_0-auc:0.76271\n",
      "[4]\tvalidation_0-auc:0.76876\n",
      "[5]\tvalidation_0-auc:0.76954\n",
      "[6]\tvalidation_0-auc:0.77176\n",
      "[7]\tvalidation_0-auc:0.77228\n",
      "[8]\tvalidation_0-auc:0.77327\n",
      "[9]\tvalidation_0-auc:0.77459\n",
      "[9]\tvalidation_0-auc:0.77459\n"
     ]
    },
    {
     "data": {
      "application/vnd.jupyter.widget-view+json": {
       "model_id": "9aa607dfb20945249200bbde3809e799",
       "version_major": 2,
       "version_minor": 0
      },
      "text/plain": [
       "Downloading artifacts:   0%|          | 0/7 [00:00<?, ?it/s]"
      ]
     },
     "metadata": {},
     "output_type": "display_data"
    },
    {
     "name": "stderr",
     "output_type": "stream",
     "text": [
      "2024/11/04 03:04:50 INFO mlflow.tracking._tracking_service.client: 🏃 View run fold_4 at: http://mlflow:5000/#/experiments/836281514613721981/runs/dd5a248403d34f4a9c329f5397025bbe.\n",
      "2024/11/04 03:04:50 INFO mlflow.tracking._tracking_service.client: 🧪 View experiment at: http://mlflow:5000/#/experiments/836281514613721981.\n"
     ]
    },
    {
     "name": "stdout",
     "output_type": "stream",
     "text": [
      "Fold : 5\n",
      "[0]\tvalidation_0-auc:0.74941\n",
      "[0]\tvalidation_0-auc:0.74941\n",
      "[1]\tvalidation_0-auc:0.75521\n",
      "[2]\tvalidation_0-auc:0.75877\n",
      "[3]\tvalidation_0-auc:0.76010\n",
      "[4]\tvalidation_0-auc:0.76125\n",
      "[5]\tvalidation_0-auc:0.76204\n",
      "[6]\tvalidation_0-auc:0.76664\n",
      "[7]\tvalidation_0-auc:0.76692\n",
      "[8]\tvalidation_0-auc:0.76756\n",
      "[9]\tvalidation_0-auc:0.77001\n",
      "[9]\tvalidation_0-auc:0.77001\n"
     ]
    },
    {
     "data": {
      "application/vnd.jupyter.widget-view+json": {
       "model_id": "ec797f7a9a6a49a7933a86675d462b0b",
       "version_major": 2,
       "version_minor": 0
      },
      "text/plain": [
       "Downloading artifacts:   0%|          | 0/7 [00:00<?, ?it/s]"
      ]
     },
     "metadata": {},
     "output_type": "display_data"
    },
    {
     "name": "stderr",
     "output_type": "stream",
     "text": [
      "2024/11/04 03:05:23 INFO mlflow.tracking._tracking_service.client: 🏃 View run fold_5 at: http://mlflow:5000/#/experiments/836281514613721981/runs/93cacc49d30c4489af0c3bbe0c1c8545.\n",
      "2024/11/04 03:05:23 INFO mlflow.tracking._tracking_service.client: 🧪 View experiment at: http://mlflow:5000/#/experiments/836281514613721981.\n",
      "2024/11/04 03:05:23 INFO mlflow.tracking._tracking_service.client: 🏃 View run xgb_2024-11-04T03:00:45.679504 at: http://mlflow:5000/#/experiments/836281514613721981/runs/a90c6d06208942d28260a0aad6568b8f.\n",
      "2024/11/04 03:05:23 INFO mlflow.tracking._tracking_service.client: 🧪 View experiment at: http://mlflow:5000/#/experiments/836281514613721981.\n"
     ]
    }
   ],
   "source": [
    "mlflow.xgboost.autolog(log_input_examples = True, log_datasets=False, silent = True)\n",
    "xgb_output =np.zeros(len(train_overall))\n",
    "\n",
    "with mlflow.start_run(run_name = \"xgb_\"+run_postfix) as run:\n",
    "    for fold, (tr_idx, val_idx) in enumerate(cv.split(train_overall, y_train, groups=train_week_df)):\n",
    "        print(\"Fold :\", fold + 1)\n",
    "        with mlflow.start_run(run_name='fold_'+str(fold+1), nested=True) as child_run:    \n",
    "            xgb_model, xgb_val_output = xgb_modelling.train_and_valid(train_overall.loc[tr_idx][selected_features], y_train[tr_idx],\n",
    "                                                              train_overall.loc[val_idx][selected_features], y_train[val_idx], xgb_params\n",
    "                                                              )\n",
    "        xgb_output[val_idx] = xgb_val_output\n",
    "        \n",
    "    mlflow.log_metric(\"overall score\", roc_auc_score(tmp[\"target\"].values, xgb_output))"
   ]
  },
  {
   "cell_type": "code",
   "execution_count": null,
   "id": "297f9711",
   "metadata": {},
   "outputs": [],
   "source": []
  }
 ],
 "metadata": {
  "kaggle": {
   "accelerator": "none",
   "dataSources": [
    {
     "databundleVersionId": 7921029,
     "sourceId": 50160,
     "sourceType": "competition"
    },
    {
     "datasetId": 4424545,
     "sourceId": 7600559,
     "sourceType": "datasetVersion"
    }
   ],
   "dockerImageVersionId": 30665,
   "isGpuEnabled": false,
   "isInternetEnabled": false,
   "language": "python",
   "sourceType": "notebook"
  },
  "kernelspec": {
   "display_name": "Python [conda env:base] *",
   "language": "python",
   "name": "conda-base-py"
  },
  "language_info": {
   "codemirror_mode": {
    "name": "ipython",
    "version": 3
   },
   "file_extension": ".py",
   "mimetype": "text/x-python",
   "name": "python",
   "nbconvert_exporter": "python",
   "pygments_lexer": "ipython3",
   "version": "3.10.14"
  },
  "papermill": {
   "default_parameters": {},
   "duration": 9352.127713,
   "end_time": "2024-10-20T03:23:35.411978",
   "environment_variables": {},
   "exception": null,
   "input_path": "__notebook__.ipynb",
   "output_path": "__notebook__.ipynb",
   "parameters": {},
   "start_time": "2024-10-20T00:47:43.284265",
   "version": "2.5.0"
  }
 },
 "nbformat": 4,
 "nbformat_minor": 5
}
