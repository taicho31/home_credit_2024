{
 "cells": [
  {
   "cell_type": "code",
   "execution_count": 1,
   "id": "c548a60c",
   "metadata": {
    "execution": {
     "iopub.execute_input": "2024-10-20T00:47:46.808619Z",
     "iopub.status.busy": "2024-10-20T00:47:46.808196Z",
     "iopub.status.idle": "2024-10-20T00:47:50.806345Z",
     "shell.execute_reply": "2024-10-20T00:47:50.805324Z"
    },
    "papermill": {
     "duration": 4.01265,
     "end_time": "2024-10-20T00:47:50.809175",
     "exception": false,
     "start_time": "2024-10-20T00:47:46.796525",
     "status": "completed"
    },
    "tags": []
   },
   "outputs": [],
   "source": [
    "import sys\n",
    "import mlflow\n",
    "import datetime\n",
    "from pathlib import Path\n",
    "\n",
    "import numpy as np\n",
    "import pandas as pd\n",
    "import polars as pl\n",
    "\n",
    "from catboost import CatBoostClassifier, CatBoostRegressor\n",
    "from sklearn.metrics import roc_auc_score\n",
    "from sklearn.model_selection import StratifiedGroupKFold"
   ]
  },
  {
   "cell_type": "code",
   "execution_count": 2,
   "id": "60b2ed92",
   "metadata": {
    "execution": {
     "iopub.execute_input": "2024-10-20T00:47:50.832620Z",
     "iopub.status.busy": "2024-10-20T00:47:50.831467Z",
     "iopub.status.idle": "2024-10-20T00:47:50.837672Z",
     "shell.execute_reply": "2024-10-20T00:47:50.836562Z"
    },
    "papermill": {
     "duration": 0.020158,
     "end_time": "2024-10-20T00:47:50.840043",
     "exception": false,
     "start_time": "2024-10-20T00:47:50.819885",
     "status": "completed"
    },
    "tags": []
   },
   "outputs": [],
   "source": [
    "ROOT            = Path(\"../data\")\n",
    "\n",
    "TRAIN_DIR       = ROOT / \"parquet_files\" / \"train\"\n",
    "TEST_DIR        = ROOT / \"parquet_files\" / \"test\"\n",
    "\n",
    "TARGET = 'target'\n",
    "EXPERIMENT_NAME = \"Home_Credit_2024\""
   ]
  },
  {
   "cell_type": "code",
   "execution_count": 3,
   "id": "d9760f39",
   "metadata": {},
   "outputs": [
    {
     "data": {
      "text/plain": [
       "<Experiment: artifact_location='file:///tmp/working/mlruns/836281514613721981', creation_time=1730029393721, experiment_id='836281514613721981', last_update_time=1730029393721, lifecycle_stage='active', name='Home_Credit_2024', tags={}>"
      ]
     },
     "execution_count": 3,
     "metadata": {},
     "output_type": "execute_result"
    }
   ],
   "source": [
    "dt_now = datetime.datetime.now()\n",
    "run_postfix = dt_now.isoformat()\n",
    "mlflow.set_tracking_uri(\"http://mlflow:5000\")\n",
    "mlflow.set_experiment(EXPERIMENT_NAME)"
   ]
  },
  {
   "cell_type": "code",
   "execution_count": 4,
   "id": "faeaf6ef",
   "metadata": {},
   "outputs": [],
   "source": [
    "sys.path.append(\"../unique_script/\")\n",
    "from util import read_file, read_files, to_pandas, feature_eng"
   ]
  },
  {
   "cell_type": "code",
   "execution_count": 6,
   "id": "40ffa953",
   "metadata": {},
   "outputs": [],
   "source": [
    "sys.path.append(\"../ml-common/\")\n",
    "from process import reduce_mem_usage\n",
    "from model import Common_CB_Modelling"
   ]
  },
  {
   "cell_type": "markdown",
   "id": "8618d030",
   "metadata": {
    "papermill": {
     "duration": 0.010184,
     "end_time": "2024-10-20T00:47:51.134086",
     "exception": false,
     "start_time": "2024-10-20T00:47:51.123902",
     "status": "completed"
    },
    "tags": []
   },
   "source": [
    "# train fe"
   ]
  },
  {
   "cell_type": "code",
   "execution_count": 7,
   "id": "9b765a81",
   "metadata": {
    "execution": {
     "iopub.execute_input": "2024-10-20T00:47:51.157288Z",
     "iopub.status.busy": "2024-10-20T00:47:51.156068Z",
     "iopub.status.idle": "2024-10-20T00:52:17.972492Z",
     "shell.execute_reply": "2024-10-20T00:52:17.971287Z"
    },
    "papermill": {
     "duration": 266.831037,
     "end_time": "2024-10-20T00:52:17.975464",
     "exception": false,
     "start_time": "2024-10-20T00:47:51.144427",
     "status": "completed"
    },
    "tags": []
   },
   "outputs": [
    {
     "name": "stdout",
     "output_type": "stream",
     "text": [
      "../data/parquet_files/train/train_static_0_*.parquet\n",
      "../data/parquet_files/train/train_applprev_1_*.parquet\n",
      "../data/parquet_files/train/train_credit_bureau_a_1_*.parquet\n",
      "../data/parquet_files/train/train_credit_bureau_a_2_*.parquet\n"
     ]
    }
   ],
   "source": [
    "train_data_store = {\n",
    "    \"df_base\": read_file(TRAIN_DIR / \"train_base.parquet\"),\n",
    "    \"depth_0\": [\n",
    "        read_file(TRAIN_DIR / \"train_static_cb_0.parquet\"),\n",
    "        read_files(TRAIN_DIR / \"train_static_0_*.parquet\"),\n",
    "    ],\n",
    "    \"depth_1\": [\n",
    "        read_files(TRAIN_DIR / \"train_applprev_1_*.parquet\", 1),\n",
    "        read_files(TRAIN_DIR / \"train_credit_bureau_a_1_*.parquet\", 1),\n",
    "        read_file(TRAIN_DIR / \"train_credit_bureau_b_1.parquet\", 1),\n",
    "        read_file(TRAIN_DIR / \"train_deposit_1.parquet\", 1),\n",
    "        read_file(TRAIN_DIR / \"train_debitcard_1.parquet\", 1),\n",
    "        read_file(TRAIN_DIR / \"train_tax_registry_a_1.parquet\", 1),\n",
    "        read_file(TRAIN_DIR / \"train_tax_registry_b_1.parquet\", 1),\n",
    "        read_file(TRAIN_DIR / \"train_tax_registry_c_1.parquet\", 1),\n",
    "        read_file(TRAIN_DIR / \"train_person_1.parquet\", 1),\n",
    "        read_file(TRAIN_DIR / \"train_other_1.parquet\", 1),\n",
    "    ],\n",
    "    \"depth_2\": [\n",
    "        read_files(TRAIN_DIR / \"train_credit_bureau_a_2_*.parquet\", 2),\n",
    "        read_file(TRAIN_DIR / \"train_credit_bureau_b_2.parquet\", 2),\n",
    "        read_file(TRAIN_DIR / \"train_person_2.parquet\", 2),\n",
    "    ]\n",
    "}"
   ]
  },
  {
   "cell_type": "code",
   "execution_count": 8,
   "id": "9ce6dc46",
   "metadata": {
    "execution": {
     "iopub.execute_input": "2024-10-20T00:52:17.999831Z",
     "iopub.status.busy": "2024-10-20T00:52:17.999102Z",
     "iopub.status.idle": "2024-10-20T00:52:37.202319Z",
     "shell.execute_reply": "2024-10-20T00:52:37.201071Z"
    },
    "papermill": {
     "duration": 19.218331,
     "end_time": "2024-10-20T00:52:37.205211",
     "exception": false,
     "start_time": "2024-10-20T00:52:17.986880",
     "status": "completed"
    },
    "tags": []
   },
   "outputs": [],
   "source": [
    "train_overall = feature_eng(**train_data_store)"
   ]
  },
  {
   "cell_type": "code",
   "execution_count": 9,
   "id": "cdc44939",
   "metadata": {
    "execution": {
     "iopub.execute_input": "2024-10-20T00:52:37.228788Z",
     "iopub.status.busy": "2024-10-20T00:52:37.228376Z",
     "iopub.status.idle": "2024-10-20T00:52:37.904304Z",
     "shell.execute_reply": "2024-10-20T00:52:37.903079Z"
    },
    "papermill": {
     "duration": 0.690684,
     "end_time": "2024-10-20T00:52:37.906840",
     "exception": false,
     "start_time": "2024-10-20T00:52:37.216156",
     "status": "completed"
    },
    "tags": []
   },
   "outputs": [],
   "source": [
    "del train_data_store"
   ]
  },
  {
   "cell_type": "markdown",
   "id": "0bece3a8",
   "metadata": {
    "papermill": {
     "duration": 0.010351,
     "end_time": "2024-10-20T00:52:38.597688",
     "exception": false,
     "start_time": "2024-10-20T00:52:38.587337",
     "status": "completed"
    },
    "tags": []
   },
   "source": [
    "# post fe"
   ]
  },
  {
   "cell_type": "code",
   "execution_count": 10,
   "id": "4d20c455",
   "metadata": {
    "execution": {
     "iopub.execute_input": "2024-10-20T00:52:38.659628Z",
     "iopub.status.busy": "2024-10-20T00:52:38.658337Z",
     "iopub.status.idle": "2024-10-20T00:53:47.825797Z",
     "shell.execute_reply": "2024-10-20T00:53:47.824319Z"
    },
    "papermill": {
     "duration": 69.18179,
     "end_time": "2024-10-20T00:53:47.828257",
     "exception": false,
     "start_time": "2024-10-20T00:52:38.646467",
     "status": "completed"
    },
    "tags": []
   },
   "outputs": [
    {
     "name": "stdout",
     "output_type": "stream",
     "text": [
      "<class 'pandas.core.frame.DataFrame'>\n",
      "RangeIndex: 1526659 entries, 0 to 1526658\n",
      "Columns: 817 entries, case_id to last_empls_employer_name_740M\n",
      "dtypes: bool(1), float32(4), float64(660), int64(4), int8(2), object(146)\n",
      "memory usage: 9.2+ GB\n",
      "None\n",
      "<class 'pandas.core.frame.DataFrame'>\n",
      "RangeIndex: 1526659 entries, 0 to 1526658\n",
      "Columns: 817 entries, case_id to last_empls_employer_name_740M\n",
      "dtypes: bool(1), category(146), float32(4), float64(660), int64(4), int8(2)\n",
      "memory usage: 7.9 GB\n"
     ]
    }
   ],
   "source": [
    "train_overall, str_features = to_pandas(train_overall)\n",
    "train_overall.info()"
   ]
  },
  {
   "cell_type": "code",
   "execution_count": 11,
   "id": "0081aecc",
   "metadata": {},
   "outputs": [
    {
     "name": "stdout",
     "output_type": "stream",
     "text": [
      "Memory usage of dataframe is 8060.49 MB\n",
      "Memory usage after optimization is: 2986.56 MB\n",
      "Decreased by 62.9%\n",
      "<class 'pandas.core.frame.DataFrame'>\n",
      "RangeIndex: 1526659 entries, 0 to 1526658\n",
      "Columns: 817 entries, case_id to last_empls_employer_name_740M\n",
      "dtypes: category(146), float16(416), float32(247), float64(2), int16(1), int32(1), int8(4)\n",
      "memory usage: 2.9 GB\n"
     ]
    }
   ],
   "source": [
    "train_overall = reduce_mem_usage(train_overall)\n",
    "train_overall.info()"
   ]
  },
  {
   "cell_type": "code",
   "execution_count": 12,
   "id": "9dd76309",
   "metadata": {
    "execution": {
     "iopub.execute_input": "2024-10-20T00:53:48.518402Z",
     "iopub.status.busy": "2024-10-20T00:53:48.518036Z",
     "iopub.status.idle": "2024-10-20T00:53:57.192113Z",
     "shell.execute_reply": "2024-10-20T00:53:57.190952Z"
    },
    "papermill": {
     "duration": 8.690737,
     "end_time": "2024-10-20T00:53:57.196191",
     "exception": false,
     "start_time": "2024-10-20T00:53:48.505454",
     "status": "completed"
    },
    "tags": []
   },
   "outputs": [],
   "source": [
    "drop_cols = str_features#[2:] #train_overall.pipe(Pipeline.filter_cols)\n",
    "train_overall = train_overall.drop(drop_cols, axis=1)"
   ]
  },
  {
   "cell_type": "code",
   "execution_count": 13,
   "id": "5939af98",
   "metadata": {
    "execution": {
     "iopub.execute_input": "2024-10-20T00:53:57.223275Z",
     "iopub.status.busy": "2024-10-20T00:53:57.222604Z",
     "iopub.status.idle": "2024-10-20T00:53:57.231420Z",
     "shell.execute_reply": "2024-10-20T00:53:57.230340Z"
    },
    "papermill": {
     "duration": 0.025386,
     "end_time": "2024-10-20T00:53:57.234657",
     "exception": false,
     "start_time": "2024-10-20T00:53:57.209271",
     "status": "completed"
    },
    "tags": []
   },
   "outputs": [],
   "source": [
    "selected_features = sorted([i for i in train_overall.columns if i not in [\"case_id\", \"MONTH\", \"WEEK_NUM\", \"target\"]])\n",
    "selected_cat_features = [col for i, col in enumerate(selected_features) if col in str_features]"
   ]
  },
  {
   "cell_type": "code",
   "execution_count": 14,
   "id": "3b883f2a",
   "metadata": {},
   "outputs": [],
   "source": [
    "y_train = train_overall[TARGET].astype(np.float32).values\n",
    "train = read_file(TRAIN_DIR / \"train_base.parquet\")\n",
    "train_week_df = train.select(\"WEEK_NUM\").to_pandas()\n",
    "cv = StratifiedGroupKFold(n_splits=5, shuffle=False)\n",
    "tmp = train_overall[[\"WEEK_NUM\", \"target\"]]"
   ]
  },
  {
   "cell_type": "markdown",
   "id": "f31828a1",
   "metadata": {
    "papermill": {
     "duration": 0.011202,
     "end_time": "2024-10-20T00:53:57.257568",
     "exception": false,
     "start_time": "2024-10-20T00:53:57.246366",
     "status": "completed"
    },
    "tags": []
   },
   "source": [
    "# modelling"
   ]
  },
  {
   "cell_type": "code",
   "execution_count": 15,
   "id": "369ab07a",
   "metadata": {
    "execution": {
     "iopub.execute_input": "2024-10-20T00:53:57.282746Z",
     "iopub.status.busy": "2024-10-20T00:53:57.282365Z",
     "iopub.status.idle": "2024-10-20T00:53:57.290712Z",
     "shell.execute_reply": "2024-10-20T00:53:57.289565Z"
    },
    "papermill": {
     "duration": 0.023639,
     "end_time": "2024-10-20T00:53:57.293051",
     "exception": false,
     "start_time": "2024-10-20T00:53:57.269412",
     "status": "completed"
    },
    "tags": []
   },
   "outputs": [],
   "source": [
    "cb_params = { \n",
    "            'random_seed': 42,\n",
    "            \"learning_rate\": 0.04,\n",
    "            'use_best_model': True,\n",
    "            'iterations': 100,#00,\n",
    "            'reg_lambda': 10,\n",
    "            \"scale_pos_weight\": 10,\n",
    "            \"task_type\": \"GPU\",\n",
    "            'loss_function': 'Logloss',\n",
    "}\n",
    "\n",
    "cb_modelling = Common_CB_Modelling(CatBoostClassifier)"
   ]
  },
  {
   "cell_type": "code",
   "execution_count": 16,
   "id": "61c3bc01",
   "metadata": {},
   "outputs": [
    {
     "name": "stdout",
     "output_type": "stream",
     "text": [
      "Fold : 1\n",
      "0:\tlearn: 0.6746161\ttest: 0.6753494\tbest: 0.6753494 (0)\ttotal: 86.7ms\tremaining: 8.58s\n",
      "99:\tlearn: 0.4325902\ttest: 0.4504123\tbest: 0.4504123 (99)\ttotal: 4.31s\tremaining: 0us\n",
      "bestTest = 0.4504123466\n",
      "bestIteration = 99\n"
     ]
    },
    {
     "name": "stderr",
     "output_type": "stream",
     "text": [
      "2024/11/09 02:00:55 WARNING mlflow.utils.environment: Encountered an unexpected error while inferring pip requirements (model URI: /tmp/tmp1wonl6yt/model, flavor: catboost). Fall back to return ['catboost==1.2.7']. Set logging level to DEBUG to see the full traceback. \n",
      "2024/11/09 02:00:55 WARNING mlflow.models.model: Model logged without a signature and input example. Please set `input_example` parameter when logging the model to auto infer the model signature.\n",
      "/opt/conda/lib/python3.10/site-packages/mlflow/types/utils.py:407: UserWarning: Hint: Inferred schema contains integer column(s). Integer columns in Python cannot represent missing values. If your input data contains missing values at inference time, it will be encoded as floats and will cause a schema enforcement error. The best way to avoid this problem is to infer the model schema based on a realistic data sample (training dataset) that includes missing values. Alternatively, you can declare integer columns as doubles (float64) whenever these columns may have missing values. See `Handling Integers With Missing Values <https://www.mlflow.org/docs/latest/models.html#handling-integers-with-missing-values>`_ for more details.\n",
      "  warnings.warn(\n",
      "2024/11/09 02:00:55 INFO mlflow.tracking._tracking_service.client: 🏃 View run fold_1 at: http://mlflow:5000/#/experiments/836281514613721981/runs/7ac0acf881d240ccb1b5ae2e59975543.\n",
      "2024/11/09 02:00:55 INFO mlflow.tracking._tracking_service.client: 🧪 View experiment at: http://mlflow:5000/#/experiments/836281514613721981.\n"
     ]
    },
    {
     "name": "stdout",
     "output_type": "stream",
     "text": [
      "Fold : 2\n",
      "0:\tlearn: 0.6752580\ttest: 0.6747738\tbest: 0.6747738 (0)\ttotal: 41.6ms\tremaining: 4.11s\n",
      "99:\tlearn: 0.4365568\ttest: 0.4334684\tbest: 0.4334684 (99)\ttotal: 4.27s\tremaining: 0us\n",
      "bestTest = 0.4334684059\n",
      "bestIteration = 99\n"
     ]
    },
    {
     "name": "stderr",
     "output_type": "stream",
     "text": [
      "2024/11/09 02:02:41 WARNING mlflow.utils.environment: Encountered an unexpected error while inferring pip requirements (model URI: /tmp/tmp__d5wgb9/model, flavor: catboost). Fall back to return ['catboost==1.2.7']. Set logging level to DEBUG to see the full traceback. \n",
      "2024/11/09 02:02:41 WARNING mlflow.models.model: Model logged without a signature and input example. Please set `input_example` parameter when logging the model to auto infer the model signature.\n",
      "/opt/conda/lib/python3.10/site-packages/mlflow/types/utils.py:407: UserWarning: Hint: Inferred schema contains integer column(s). Integer columns in Python cannot represent missing values. If your input data contains missing values at inference time, it will be encoded as floats and will cause a schema enforcement error. The best way to avoid this problem is to infer the model schema based on a realistic data sample (training dataset) that includes missing values. Alternatively, you can declare integer columns as doubles (float64) whenever these columns may have missing values. See `Handling Integers With Missing Values <https://www.mlflow.org/docs/latest/models.html#handling-integers-with-missing-values>`_ for more details.\n",
      "  warnings.warn(\n",
      "2024/11/09 02:02:41 INFO mlflow.tracking._tracking_service.client: 🏃 View run fold_2 at: http://mlflow:5000/#/experiments/836281514613721981/runs/1bdcb34bf16443e2abe9004c0740baff.\n",
      "2024/11/09 02:02:41 INFO mlflow.tracking._tracking_service.client: 🧪 View experiment at: http://mlflow:5000/#/experiments/836281514613721981.\n"
     ]
    },
    {
     "name": "stdout",
     "output_type": "stream",
     "text": [
      "Fold : 3\n",
      "0:\tlearn: 0.6749541\ttest: 0.6746395\tbest: 0.6746395 (0)\ttotal: 43.1ms\tremaining: 4.26s\n",
      "99:\tlearn: 0.4375709\ttest: 0.4319683\tbest: 0.4319683 (99)\ttotal: 4.44s\tremaining: 0us\n",
      "bestTest = 0.4319683037\n",
      "bestIteration = 99\n"
     ]
    },
    {
     "name": "stderr",
     "output_type": "stream",
     "text": [
      "2024/11/09 02:04:28 WARNING mlflow.utils.environment: Encountered an unexpected error while inferring pip requirements (model URI: /tmp/tmpqufllbm1/model, flavor: catboost). Fall back to return ['catboost==1.2.7']. Set logging level to DEBUG to see the full traceback. \n",
      "2024/11/09 02:04:28 WARNING mlflow.models.model: Model logged without a signature and input example. Please set `input_example` parameter when logging the model to auto infer the model signature.\n",
      "/opt/conda/lib/python3.10/site-packages/mlflow/types/utils.py:407: UserWarning: Hint: Inferred schema contains integer column(s). Integer columns in Python cannot represent missing values. If your input data contains missing values at inference time, it will be encoded as floats and will cause a schema enforcement error. The best way to avoid this problem is to infer the model schema based on a realistic data sample (training dataset) that includes missing values. Alternatively, you can declare integer columns as doubles (float64) whenever these columns may have missing values. See `Handling Integers With Missing Values <https://www.mlflow.org/docs/latest/models.html#handling-integers-with-missing-values>`_ for more details.\n",
      "  warnings.warn(\n",
      "2024/11/09 02:04:28 INFO mlflow.tracking._tracking_service.client: 🏃 View run fold_3 at: http://mlflow:5000/#/experiments/836281514613721981/runs/38ce84b40134493e91d96cd00ff66408.\n",
      "2024/11/09 02:04:28 INFO mlflow.tracking._tracking_service.client: 🧪 View experiment at: http://mlflow:5000/#/experiments/836281514613721981.\n"
     ]
    },
    {
     "name": "stdout",
     "output_type": "stream",
     "text": [
      "Fold : 4\n",
      "0:\tlearn: 0.6749244\ttest: 0.6749950\tbest: 0.6749950 (0)\ttotal: 42ms\tremaining: 4.16s\n",
      "99:\tlearn: 0.4357355\ttest: 0.4381681\tbest: 0.4381681 (99)\ttotal: 4.27s\tremaining: 0us\n",
      "bestTest = 0.4381680706\n",
      "bestIteration = 99\n"
     ]
    },
    {
     "name": "stderr",
     "output_type": "stream",
     "text": [
      "2024/11/09 02:06:15 WARNING mlflow.utils.environment: Encountered an unexpected error while inferring pip requirements (model URI: /tmp/tmp4oeq3h38/model, flavor: catboost). Fall back to return ['catboost==1.2.7']. Set logging level to DEBUG to see the full traceback. \n",
      "2024/11/09 02:06:15 WARNING mlflow.models.model: Model logged without a signature and input example. Please set `input_example` parameter when logging the model to auto infer the model signature.\n",
      "/opt/conda/lib/python3.10/site-packages/mlflow/types/utils.py:407: UserWarning: Hint: Inferred schema contains integer column(s). Integer columns in Python cannot represent missing values. If your input data contains missing values at inference time, it will be encoded as floats and will cause a schema enforcement error. The best way to avoid this problem is to infer the model schema based on a realistic data sample (training dataset) that includes missing values. Alternatively, you can declare integer columns as doubles (float64) whenever these columns may have missing values. See `Handling Integers With Missing Values <https://www.mlflow.org/docs/latest/models.html#handling-integers-with-missing-values>`_ for more details.\n",
      "  warnings.warn(\n",
      "2024/11/09 02:06:15 INFO mlflow.tracking._tracking_service.client: 🏃 View run fold_4 at: http://mlflow:5000/#/experiments/836281514613721981/runs/453482531f2b48b7941836dff1de921f.\n",
      "2024/11/09 02:06:15 INFO mlflow.tracking._tracking_service.client: 🧪 View experiment at: http://mlflow:5000/#/experiments/836281514613721981.\n"
     ]
    },
    {
     "name": "stdout",
     "output_type": "stream",
     "text": [
      "Fold : 5\n",
      "0:\tlearn: 0.6749238\ttest: 0.6748681\tbest: 0.6748681 (0)\ttotal: 42.2ms\tremaining: 4.18s\n",
      "99:\tlearn: 0.4362207\ttest: 0.4365733\tbest: 0.4365733 (99)\ttotal: 4.25s\tremaining: 0us\n",
      "bestTest = 0.4365733184\n",
      "bestIteration = 99\n"
     ]
    },
    {
     "name": "stderr",
     "output_type": "stream",
     "text": [
      "2024/11/09 02:08:01 WARNING mlflow.utils.environment: Encountered an unexpected error while inferring pip requirements (model URI: /tmp/tmpzt_3y9s4/model, flavor: catboost). Fall back to return ['catboost==1.2.7']. Set logging level to DEBUG to see the full traceback. \n",
      "2024/11/09 02:08:01 WARNING mlflow.models.model: Model logged without a signature and input example. Please set `input_example` parameter when logging the model to auto infer the model signature.\n",
      "/opt/conda/lib/python3.10/site-packages/mlflow/types/utils.py:407: UserWarning: Hint: Inferred schema contains integer column(s). Integer columns in Python cannot represent missing values. If your input data contains missing values at inference time, it will be encoded as floats and will cause a schema enforcement error. The best way to avoid this problem is to infer the model schema based on a realistic data sample (training dataset) that includes missing values. Alternatively, you can declare integer columns as doubles (float64) whenever these columns may have missing values. See `Handling Integers With Missing Values <https://www.mlflow.org/docs/latest/models.html#handling-integers-with-missing-values>`_ for more details.\n",
      "  warnings.warn(\n",
      "2024/11/09 02:08:01 INFO mlflow.tracking._tracking_service.client: 🏃 View run fold_5 at: http://mlflow:5000/#/experiments/836281514613721981/runs/c6d115a08c0c4529adcb89de7d0a9fd5.\n",
      "2024/11/09 02:08:01 INFO mlflow.tracking._tracking_service.client: 🧪 View experiment at: http://mlflow:5000/#/experiments/836281514613721981.\n",
      "2024/11/09 02:08:01 INFO mlflow.tracking._tracking_service.client: 🏃 View run cb_2024-11-09T01:56:54.316752 at: http://mlflow:5000/#/experiments/836281514613721981/runs/0b07ecf546e34b938ab0baa468251cef.\n",
      "2024/11/09 02:08:01 INFO mlflow.tracking._tracking_service.client: 🧪 View experiment at: http://mlflow:5000/#/experiments/836281514613721981.\n"
     ]
    }
   ],
   "source": [
    "cb_output =np.zeros(len(train_overall))\n",
    "with mlflow.start_run(run_name = \"cb_\"+run_postfix) as run:\n",
    "    for fold, (tr_idx, val_idx) in enumerate(cv.split(train_overall, y_train, groups=train_week_df)):\n",
    "        print(\"Fold :\", fold + 1)\n",
    "        with mlflow.start_run(run_name='fold_'+str(fold+1), nested=True) as child_run:    \n",
    "            cb_model, cb_val_output = cb_modelling.train_and_valid(\n",
    "                                                            train_overall.loc[tr_idx][selected_features], y_train[tr_idx],\n",
    "                                                            train_overall.loc[val_idx][selected_features], y_train[val_idx], cb_params,\n",
    "                                                            selected_cat_features)\n",
    "            mlflow.catboost.log_model(cb_model, \"artifacts\")\n",
    "            mlflow.log_params(cb_params)\n",
    "            \n",
    "            dataset = mlflow.data.from_pandas(train_overall.head(1)[selected_features])\n",
    "            mlflow.log_input(dataset)\n",
    "        cb_output[val_idx] = cb_val_output\n",
    "    mlflow.log_metric(\"overall score\", roc_auc_score(tmp[\"target\"].values, cb_output)) "
   ]
  },
  {
   "cell_type": "code",
   "execution_count": null,
   "id": "297f9711",
   "metadata": {},
   "outputs": [],
   "source": []
  }
 ],
 "metadata": {
  "kaggle": {
   "accelerator": "none",
   "dataSources": [
    {
     "databundleVersionId": 7921029,
     "sourceId": 50160,
     "sourceType": "competition"
    },
    {
     "datasetId": 4424545,
     "sourceId": 7600559,
     "sourceType": "datasetVersion"
    }
   ],
   "dockerImageVersionId": 30665,
   "isGpuEnabled": false,
   "isInternetEnabled": false,
   "language": "python",
   "sourceType": "notebook"
  },
  "kernelspec": {
   "display_name": "Python [conda env:base] *",
   "language": "python",
   "name": "conda-base-py"
  },
  "language_info": {
   "codemirror_mode": {
    "name": "ipython",
    "version": 3
   },
   "file_extension": ".py",
   "mimetype": "text/x-python",
   "name": "python",
   "nbconvert_exporter": "python",
   "pygments_lexer": "ipython3",
   "version": "3.10.14"
  },
  "papermill": {
   "default_parameters": {},
   "duration": 9352.127713,
   "end_time": "2024-10-20T03:23:35.411978",
   "environment_variables": {},
   "exception": null,
   "input_path": "__notebook__.ipynb",
   "output_path": "__notebook__.ipynb",
   "parameters": {},
   "start_time": "2024-10-20T00:47:43.284265",
   "version": "2.5.0"
  }
 },
 "nbformat": 4,
 "nbformat_minor": 5
}
